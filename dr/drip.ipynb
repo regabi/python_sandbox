{
 "cells": [
  {
   "cell_type": "markdown",
   "metadata": {},
   "source": [
    "## A short analysis of Drip - a Patreon clone :p"
   ]
  },
  {
   "cell_type": "markdown",
   "metadata": {},
   "source": [
    "<b>But Why?</b><br>\n",
    "As I am interviewing for a Data Scientist position at Patreon, it seemed:\n",
    "- fun to prepare by practicing my Python and Analysis skills,\n",
    "- while maybe providing a some useful insights."
   ]
  },
  {
   "cell_type": "markdown",
   "metadata": {},
   "source": [
    "<b>And How?</b> <br>\n",
    "- First, by opening up the Chrome Console on Drip and looking at the relevant API calls.\n",
    "- Then figuring out that the API is in GraphQL which I had to get familiar with, so I can tweak the requests and exactly the data I want.\n",
    "- And finally, by visualizing the data.\n",
    "\n",
    "For context, you can read the [Blog Post](https://www.kickstarter.com/blog/introducing-the-new-drip) from Nov 15 2017, announcing the re-launch by Kickstarter, since the 2016 acquisition."
   ]
  },
  {
   "cell_type": "markdown",
   "metadata": {},
   "source": [
    "### TLDR"
   ]
  },
  {
   "cell_type": "markdown",
   "metadata": {},
   "source": [
    "- Drip is small (only 92 creators today but it's still invite-only for Creators)\n",
    "- 6k patrons, \\$22k / month in pledges\n",
    "- 7 Creators are making over $1000 / month\n",
    "- Publishing & Art are the categories with the most Creators\n",
    "- They are adding about 17 pledges a day"
   ]
  },
  {
   "cell_type": "markdown",
   "metadata": {},
   "source": [
    "Now, let's jump in the Data Science details..."
   ]
  },
  {
   "cell_type": "code",
   "execution_count": 43,
   "metadata": {},
   "outputs": [],
   "source": [
    "import requests\n",
    "import json\n",
    "from datetime import datetime\n",
    "import time\n",
    "import random\n",
    "\n",
    "import numpy as np\n",
    "import pandas as pd\n",
    "import seaborn as sns\n",
    "import matplotlib.pyplot as plt\n",
    "\n",
    "# we are going to show images\n",
    "from IPython.display import Image\n",
    "from IPython.core.display import HTML \n",
    "\n",
    "\n",
    "# default figsize for the whole notebook\n",
    "plt.rcParams[\"figure.figsize\"] = (16,6)"
   ]
  },
  {
   "cell_type": "code",
   "execution_count": 2,
   "metadata": {},
   "outputs": [],
   "source": [
    "def call_api(cursor):\n",
    "    \"\"\"Makes a single API request to dr.ip GraphQL API to get creators\"\"\"\n",
    "\n",
    "    print(\"calling API with cursor: %s\" % cursor)\n",
    "    url = \"https://www.kickstarter.com/graph\"\n",
    "\n",
    "    # Reversed engineered this request by inspecting requests from https://d.rip/discover\n",
    "    # Note: I had to add some fields in the request\n",
    "    variables_str = \"{\\\"perPage\\\":%(perPage)s,\\\"cursor\\\":\\\"%(cursor)s\\\"}}\" % { 'perPage': 100, 'cursor': cursor }\n",
    "    payload = \"{\\\"query\\\":\\\"query($perPage:  Int!,  $cursor:  String)  {  drops(first:  $perPage,  after:  $cursor,  filter:  LIVE)  {  edges  {  cursor  node  {  id  blurb  foundingAt  activeAt  foundingDays  foundingMembersCount  enableEarningsDisplay  description  pledgesTotalAmount  {  amount  currency  }  pledgesCount  headerImage  {  url(width:650)  }  headerVideo  {  id  poster  }  phase  slug  category  {  name  slug  }  creator  {  name  imageUrl(width:60)  }  publishedPostsCount  }  }  pageInfo  {  hasNextPage  endCursor  }  }  }  \\\",\\\"variables\\\": %(variables_str)s\" % { 'variables_str': variables_str }\n",
    "\n",
    "    headers = {\n",
    "        'authorization': \"token null\",\n",
    "        'origin': \"https://d.rip\",\n",
    "        'x-devtools-emulate-network-conditions-client-id': \"2387BBC7A16C6222B9D3B0DA5F9F6688\",\n",
    "        'user-agent': \"Mozilla/5.0 (Macintosh; Intel Mac OS X 10_13_4) AppleWebKit/537.36 (KHTML, like Gecko) Chrome/66.0.3359.139 Safari/537.36\",\n",
    "        'content-type': \"application/json\",\n",
    "        'accept': \"*/*\",\n",
    "        'referer': \"https://d.rip/discover\",\n",
    "        'accept-encoding': \"gzip, deflate, br\",\n",
    "        'accept-language': \"en-US,en;q=0.9,fr-FR;q=0.8,fr;q=0.7\",\n",
    "        'cache-control': \"no-cache\",\n",
    "        }\n",
    "\n",
    "    response = requests.request(\"POST\", url, headers=headers, data=payload)\n",
    "    data = json.loads(response.text)\n",
    "\n",
    "    return data"
   ]
  },
  {
   "cell_type": "code",
   "execution_count": 3,
   "metadata": {},
   "outputs": [],
   "source": [
    "print_creator = True\n",
    "\n",
    "def creator_edge_to_row(edge):\n",
    "    \"\"\"Converts Creator Edge from GraphQL to a 1-dimensional row\"\"\"\n",
    "\n",
    "    row = edge['node']\n",
    "\n",
    "    # useful to visualize the whole response, we only print one \n",
    "    global print_creator\n",
    "\n",
    "    if print_creator:\n",
    "        print(json.dumps(edge['node'], indent=4))\n",
    "        print_creator = False\n",
    "\n",
    "    new_row = dict((key, row[key]) for key in ('id', 'blurb', 'foundingAt', 'activeAt', 'foundingDays', 'foundingMembersCount', 'enableEarningsDisplay', 'pledgesCount', 'phase', 'slug', 'publishedPostsCount'))\n",
    "    \n",
    "    if row['category']:\n",
    "        new_row['categorySlug'] = row['category']['slug']\n",
    "    else:\n",
    "        new_row['categorySlug'] = np.nan\n",
    "        \n",
    "    if row['pledgesTotalAmount']:\n",
    "        new_row['pledgesTotalAmount'] =  float(row['pledgesTotalAmount']['amount'])\n",
    "        new_row['pledgesTotalCurrency'] =  row['pledgesTotalAmount']['currency']\n",
    "    else:\n",
    "        new_row['pledgesTotalAmount'] = 0\n",
    "        new_row['pledgesTotalCurrency'] = np.nan\n",
    "\n",
    "    return new_row"
   ]
  },
  {
   "cell_type": "code",
   "execution_count": 4,
   "metadata": {},
   "outputs": [],
   "source": [
    "def get_creators(cursor=None):\n",
    "    \"\"\"Makes a single API request to dr.ip GraphQL API to get creators. Returns Creator Edges and pagination cursor\"\"\"\n",
    "\n",
    "    data = call_api(cursor)\n",
    "    creator_edges = data['data']['drops']['edges']\n",
    "    end_cursor = data['data']['drops']['pageInfo']['endCursor']\n",
    "    return (creator_edges, end_cursor)"
   ]
  },
  {
   "cell_type": "code",
   "execution_count": 5,
   "metadata": {
    "scrolled": true
   },
   "outputs": [],
   "source": [
    "def load_all_drip_creators():\n",
    "    \"\"\"Calls the dr.ip API until all creators are loaded. Returns a DataFrame of all creators\"\"\"\n",
    "    creator_rows = []\n",
    "    cursor = ''\n",
    "\n",
    "    while cursor != None:\n",
    "        creator_edges, cursor = get_creators(cursor)\n",
    "        print(\"{dt}: returned {creators_count} creators, and cursor: {cursor}\".format(dt=datetime.now(), creators_count=len(creator_edges), cursor=cursor))\n",
    "\n",
    "        for edge in creator_edges:\n",
    "            creator_rows.append(creator_edge_to_row(edge))\n",
    "\n",
    "        # sleep for a time between 1s and 3s\n",
    "        time.sleep(1 + random.random()*2)\n",
    "\n",
    "    print(\"Total creators loaded: \", len(creator_rows))\n",
    "    \n",
    "    return pd.DataFrame.from_records(creator_rows)"
   ]
  },
  {
   "cell_type": "code",
   "execution_count": 6,
   "metadata": {},
   "outputs": [
    {
     "name": "stdout",
     "output_type": "stream",
     "text": [
      "calling API with cursor: \n",
      "2018-05-17 19:45:20.975345: returned 50 creators, and cursor: NTA=\n",
      "{\n",
      "    \"id\": \"RHJvcC0yMjY=\",\n",
      "    \"blurb\": \"Got a Girl Crush aims to disrupt the broken narrative of most women's publications and tell stories of all ages, races, and backgrounds of women all over the world. Learn more at gotagirlcrush.com\",\n",
      "    \"foundingAt\": 1522081683,\n",
      "    \"activeAt\": 1524673683,\n",
      "    \"foundingDays\": 30,\n",
      "    \"foundingMembersCount\": 27,\n",
      "    \"enableEarningsDisplay\": true,\n",
      "    \"description\": \"<p>Much like your favorite podcast and public radio station, we survive on the support of our readers who enjoy what we do.</p>\\n<p><em>For less than the cost of your daily latt\\u00e9 habit, you can chip in once a month and help sustain </em><a href=\\\"http://www.gotagirlcrush.com/\\\" target=\\\"_blank\\\" rel=\\\"noopener\\\"><em>Got a Girl Crush</em></a><em>!</em></p>\\n<p><strong>We believe that print is not dead</strong> and that there is value to having a tangible medium to read, digest, and share--rather than sharing a link online that is easily forgotten tomorrow. In addition to the blog and magazine, we aim to bring connectivity beyond the page and screen by hosting events and pop-ups to bring our audience together and build community!</p>\\n<p><strong>By interviewing women of all backgrounds, we give voice to those often marginalized by or left out of mainstream media. </strong>\\u00a0For 9 years, Got a Girl Crush has been a labor of love of its founders. As we consider the future of the magazine at this crucial point in the struggle for women\\u2019s equality and voice in media and the world, we aim to increase our presence so that more people may discover the accomplishments and perspective of the often unsung women we feature. Our audience is anyone with an interest in learning more about diverse, compelling women, and their role in social justice, science, arts, and various aspects of life.\\u00a0</p>\\n<p><em><strong>Why are we raising money through Drip?\\u00a0</strong></em></p>\\n<p>At its current stage, the magazine is now a bi-annual independent publication featuring beautiful intriguing work by artists and interviews with women. We are an army of two friends + two interns who devote all our free time to continuing to give a platform to women to share their stories and accomplishments.\\u00a0</p>\\n<p><em><strong>Why we need funding:\\u00a0</strong></em></p>\\n<p><strong>We want to compensate those making the magazine</strong> what it is for all their hard work! We are now paying all of our contributors (both <a href=\\\"http://www.gotagirlcrush.com/\\\" target=\\\"_blank\\\" rel=\\\"noopener\\\">online</a> and in print)--whereas before everyone donated 100% of their times and talents to the cause.\\u00a0</p>\\n<p><strong>We want to create high quality content with more frequency. We want to hire more artists, more writers, but to do that we need a bigger production budget.\\u00a0</strong>\\u00a0</p>\\n<p>We need funding to <strong>scale the size of the magazine</strong>. This involves larger runs (our last issue was only 1,000 copies and now we've moved up to 2,000), <strong>moving to a bi-annual format</strong>, <strong>paying distributors</strong>, <strong>paying our interns</strong>, and <strong>hiring someone that is skilled at marketing</strong> to a wider audience because we truly stand behind that although this is a woman-owned, run, designed, published, distributed magazine--it is for everyone.</p>\",\n",
      "    \"pledgesTotalAmount\": {\n",
      "        \"amount\": \"165.0\",\n",
      "        \"currency\": \"USD\"\n",
      "    },\n",
      "    \"pledgesCount\": 27,\n",
      "    \"headerImage\": {\n",
      "        \"url\": \"https://ksr-ugc.imgix.net/assets/020/569/545/9761ccdc57f015c3baf1bb5a1ce7dc58_original.gif?q=80&blur=false&w=650&fit=true&v=1521169972&auto=format&gif-q=50&s=90681ac39ea926ef4c040186c0396db0\"\n",
      "    },\n",
      "    \"headerVideo\": {\n",
      "        \"id\": \"QXR0YWNoZWRWaWRlby0yMDM5NzQ3MA==\",\n",
      "        \"poster\": \"https://d15chbti7ht62o.cloudfront.net/assets/020/397/470/cb66666a71bcddc203c93f1ea4a34510_h264_base.jpg?2018\"\n",
      "    },\n",
      "    \"phase\": \"ACTIVE\",\n",
      "    \"slug\": \"girl-crush\",\n",
      "    \"category\": {\n",
      "        \"name\": \"Publishing\",\n",
      "        \"slug\": \"publishing\"\n",
      "    },\n",
      "    \"creator\": {\n",
      "        \"name\": \"Got a Girl Crush\",\n",
      "        \"imageUrl\": \"https://ksr-ugc.imgix.net/assets/008/171/318/fd1440fd877f2551e5e9c0ee95c57c80_original.png?w=160&h=160&fit=crop&v=1461507420&auto=format&q=92&s=3e5f1f12d977514d4a50ffe793ffa28d\"\n",
      "    },\n",
      "    \"publishedPostsCount\": 9\n",
      "}\n",
      "calling API with cursor: NTA=\n",
      "2018-05-17 19:45:23.583504: returned 42 creators, and cursor: OTI=\n",
      "calling API with cursor: OTI=\n",
      "2018-05-17 19:45:26.824427: returned 0 creators, and cursor: None\n",
      "Total creators loaded:  92\n"
     ]
    }
   ],
   "source": [
    "df = load_all_drip_creators()"
   ]
  },
  {
   "cell_type": "markdown",
   "metadata": {},
   "source": [
    "### The very first insight..."
   ]
  },
  {
   "cell_type": "markdown",
   "metadata": {},
   "source": [
    "There are only 92 creators on the platform! One reason is that it's very new, another one is in the FAQ:"
   ]
  },
  {
   "cell_type": "code",
   "execution_count": 7,
   "metadata": {},
   "outputs": [
    {
     "data": {
      "text/html": [
       "<img src=\"https://www.dropbox.com/s/p1bn6i5baju8b6b/Screenshot%202018-05-17%2018.22.34.png?dl=1\"/>"
      ],
      "text/plain": [
       "<IPython.core.display.Image object>"
      ]
     },
     "execution_count": 7,
     "metadata": {},
     "output_type": "execute_result"
    }
   ],
   "source": [
    "Image(url= \"https://www.dropbox.com/s/p1bn6i5baju8b6b/Screenshot%202018-05-17%2018.22.34.png?dl=1\")"
   ]
  },
  {
   "cell_type": "markdown",
   "metadata": {},
   "source": [
    "### Let's clean up the Data Frame"
   ]
  },
  {
   "cell_type": "code",
   "execution_count": 8,
   "metadata": {},
   "outputs": [
    {
     "data": {
      "text/html": [
       "<div>\n",
       "<style scoped>\n",
       "    .dataframe tbody tr th:only-of-type {\n",
       "        vertical-align: middle;\n",
       "    }\n",
       "\n",
       "    .dataframe tbody tr th {\n",
       "        vertical-align: top;\n",
       "    }\n",
       "\n",
       "    .dataframe thead th {\n",
       "        text-align: right;\n",
       "    }\n",
       "</style>\n",
       "<table border=\"1\" class=\"dataframe\">\n",
       "  <thead>\n",
       "    <tr style=\"text-align: right;\">\n",
       "      <th></th>\n",
       "      <th>activeAt</th>\n",
       "      <th>blurb</th>\n",
       "      <th>categorySlug</th>\n",
       "      <th>enableEarningsDisplay</th>\n",
       "      <th>foundingAt</th>\n",
       "      <th>foundingDays</th>\n",
       "      <th>foundingMembersCount</th>\n",
       "      <th>id</th>\n",
       "      <th>phase</th>\n",
       "      <th>pledgesCount</th>\n",
       "      <th>pledgesTotalAmount</th>\n",
       "      <th>pledgesTotalCurrency</th>\n",
       "      <th>publishedPostsCount</th>\n",
       "      <th>slug</th>\n",
       "    </tr>\n",
       "  </thead>\n",
       "  <tbody>\n",
       "    <tr>\n",
       "      <th>0</th>\n",
       "      <td>1524673683</td>\n",
       "      <td>Got a Girl Crush aims to disrupt the broken na...</td>\n",
       "      <td>publishing</td>\n",
       "      <td>True</td>\n",
       "      <td>1522081683</td>\n",
       "      <td>30</td>\n",
       "      <td>27</td>\n",
       "      <td>RHJvcC0yMjY=</td>\n",
       "      <td>ACTIVE</td>\n",
       "      <td>27</td>\n",
       "      <td>165.0</td>\n",
       "      <td>USD</td>\n",
       "      <td>9</td>\n",
       "      <td>girl-crush</td>\n",
       "    </tr>\n",
       "    <tr>\n",
       "      <th>1</th>\n",
       "      <td>1511964921</td>\n",
       "      <td>I try to make objects, spaces (both physical a...</td>\n",
       "      <td>art</td>\n",
       "      <td>True</td>\n",
       "      <td>1510754503</td>\n",
       "      <td>14</td>\n",
       "      <td>24</td>\n",
       "      <td>RHJvcC0xMjg=</td>\n",
       "      <td>ACTIVE</td>\n",
       "      <td>22</td>\n",
       "      <td>101.0</td>\n",
       "      <td>USD</td>\n",
       "      <td>17</td>\n",
       "      <td>azikiwe-mohammed</td>\n",
       "    </tr>\n",
       "    <tr>\n",
       "      <th>2</th>\n",
       "      <td>1525238041</td>\n",
       "      <td>Broccoli and Ice Cream is a fun new podcast by...</td>\n",
       "      <td>podcasts-and-radio</td>\n",
       "      <td>True</td>\n",
       "      <td>1522646041</td>\n",
       "      <td>30</td>\n",
       "      <td>17</td>\n",
       "      <td>RHJvcC0yMzA=</td>\n",
       "      <td>ACTIVE</td>\n",
       "      <td>17</td>\n",
       "      <td>71.0</td>\n",
       "      <td>USD</td>\n",
       "      <td>13</td>\n",
       "      <td>broccoliandicecream</td>\n",
       "    </tr>\n",
       "    <tr>\n",
       "      <th>3</th>\n",
       "      <td>1513088128</td>\n",
       "      <td>Every day I draw with a pen, a marker, or musi...</td>\n",
       "      <td>art</td>\n",
       "      <td>False</td>\n",
       "      <td>1510754503</td>\n",
       "      <td>27</td>\n",
       "      <td>26</td>\n",
       "      <td>RHJvcC03Nw==</td>\n",
       "      <td>ACTIVE</td>\n",
       "      <td>23</td>\n",
       "      <td>0.0</td>\n",
       "      <td>NaN</td>\n",
       "      <td>25</td>\n",
       "      <td>shantell-martin</td>\n",
       "    </tr>\n",
       "    <tr>\n",
       "      <th>4</th>\n",
       "      <td>1513347324</td>\n",
       "      <td>Richard Herring’s Podcasts - Help us to make e...</td>\n",
       "      <td>film-and-video</td>\n",
       "      <td>True</td>\n",
       "      <td>1510754504</td>\n",
       "      <td>30</td>\n",
       "      <td>1065</td>\n",
       "      <td>RHJvcC0xNjE=</td>\n",
       "      <td>ACTIVE</td>\n",
       "      <td>1113</td>\n",
       "      <td>3453.0</td>\n",
       "      <td>GBP</td>\n",
       "      <td>14</td>\n",
       "      <td>richard-herring</td>\n",
       "    </tr>\n",
       "  </tbody>\n",
       "</table>\n",
       "</div>"
      ],
      "text/plain": [
       "     activeAt                                              blurb  \\\n",
       "0  1524673683  Got a Girl Crush aims to disrupt the broken na...   \n",
       "1  1511964921  I try to make objects, spaces (both physical a...   \n",
       "2  1525238041  Broccoli and Ice Cream is a fun new podcast by...   \n",
       "3  1513088128  Every day I draw with a pen, a marker, or musi...   \n",
       "4  1513347324  Richard Herring’s Podcasts - Help us to make e...   \n",
       "\n",
       "         categorySlug  enableEarningsDisplay  foundingAt  foundingDays  \\\n",
       "0          publishing                   True  1522081683            30   \n",
       "1                 art                   True  1510754503            14   \n",
       "2  podcasts-and-radio                   True  1522646041            30   \n",
       "3                 art                  False  1510754503            27   \n",
       "4      film-and-video                   True  1510754504            30   \n",
       "\n",
       "   foundingMembersCount            id   phase  pledgesCount  \\\n",
       "0                    27  RHJvcC0yMjY=  ACTIVE            27   \n",
       "1                    24  RHJvcC0xMjg=  ACTIVE            22   \n",
       "2                    17  RHJvcC0yMzA=  ACTIVE            17   \n",
       "3                    26  RHJvcC03Nw==  ACTIVE            23   \n",
       "4                  1065  RHJvcC0xNjE=  ACTIVE          1113   \n",
       "\n",
       "   pledgesTotalAmount pledgesTotalCurrency  publishedPostsCount  \\\n",
       "0               165.0                  USD                    9   \n",
       "1               101.0                  USD                   17   \n",
       "2                71.0                  USD                   13   \n",
       "3                 0.0                  NaN                   25   \n",
       "4              3453.0                  GBP                   14   \n",
       "\n",
       "                  slug  \n",
       "0           girl-crush  \n",
       "1     azikiwe-mohammed  \n",
       "2  broccoliandicecream  \n",
       "3      shantell-martin  \n",
       "4      richard-herring  "
      ]
     },
     "execution_count": 8,
     "metadata": {},
     "output_type": "execute_result"
    }
   ],
   "source": [
    "df.head()"
   ]
  },
  {
   "cell_type": "code",
   "execution_count": 9,
   "metadata": {},
   "outputs": [
    {
     "name": "stdout",
     "output_type": "stream",
     "text": [
      "<class 'pandas.core.frame.DataFrame'>\n",
      "RangeIndex: 92 entries, 0 to 91\n",
      "Data columns (total 14 columns):\n",
      "activeAt                 92 non-null int64\n",
      "blurb                    92 non-null object\n",
      "categorySlug             90 non-null object\n",
      "enableEarningsDisplay    92 non-null bool\n",
      "foundingAt               92 non-null int64\n",
      "foundingDays             92 non-null int64\n",
      "foundingMembersCount     92 non-null int64\n",
      "id                       92 non-null object\n",
      "phase                    92 non-null object\n",
      "pledgesCount             92 non-null int64\n",
      "pledgesTotalAmount       92 non-null float64\n",
      "pledgesTotalCurrency     71 non-null object\n",
      "publishedPostsCount      92 non-null int64\n",
      "slug                     92 non-null object\n",
      "dtypes: bool(1), float64(1), int64(6), object(6)\n",
      "memory usage: 9.5+ KB\n"
     ]
    }
   ],
   "source": [
    "df.info()"
   ]
  },
  {
   "cell_type": "markdown",
   "metadata": {},
   "source": [
    "#### Let's fix type on datetime fields and index by unique id"
   ]
  },
  {
   "cell_type": "code",
   "execution_count": 10,
   "metadata": {},
   "outputs": [
    {
     "data": {
      "text/html": [
       "<div>\n",
       "<style scoped>\n",
       "    .dataframe tbody tr th:only-of-type {\n",
       "        vertical-align: middle;\n",
       "    }\n",
       "\n",
       "    .dataframe tbody tr th {\n",
       "        vertical-align: top;\n",
       "    }\n",
       "\n",
       "    .dataframe thead th {\n",
       "        text-align: right;\n",
       "    }\n",
       "</style>\n",
       "<table border=\"1\" class=\"dataframe\">\n",
       "  <thead>\n",
       "    <tr style=\"text-align: right;\">\n",
       "      <th></th>\n",
       "      <th>activeAt</th>\n",
       "      <th>blurb</th>\n",
       "      <th>categorySlug</th>\n",
       "      <th>enableEarningsDisplay</th>\n",
       "      <th>foundingAt</th>\n",
       "      <th>foundingDays</th>\n",
       "      <th>foundingMembersCount</th>\n",
       "      <th>phase</th>\n",
       "      <th>pledgesCount</th>\n",
       "      <th>pledgesTotalAmount</th>\n",
       "      <th>pledgesTotalCurrency</th>\n",
       "      <th>publishedPostsCount</th>\n",
       "      <th>slug</th>\n",
       "    </tr>\n",
       "    <tr>\n",
       "      <th>id</th>\n",
       "      <th></th>\n",
       "      <th></th>\n",
       "      <th></th>\n",
       "      <th></th>\n",
       "      <th></th>\n",
       "      <th></th>\n",
       "      <th></th>\n",
       "      <th></th>\n",
       "      <th></th>\n",
       "      <th></th>\n",
       "      <th></th>\n",
       "      <th></th>\n",
       "      <th></th>\n",
       "    </tr>\n",
       "  </thead>\n",
       "  <tbody>\n",
       "    <tr>\n",
       "      <th>RHJvcC0yMjY=</th>\n",
       "      <td>2018-04-25 16:28:03</td>\n",
       "      <td>Got a Girl Crush aims to disrupt the broken na...</td>\n",
       "      <td>publishing</td>\n",
       "      <td>True</td>\n",
       "      <td>2018-03-26 16:28:03</td>\n",
       "      <td>30</td>\n",
       "      <td>27</td>\n",
       "      <td>ACTIVE</td>\n",
       "      <td>27</td>\n",
       "      <td>165.0</td>\n",
       "      <td>USD</td>\n",
       "      <td>9</td>\n",
       "      <td>girl-crush</td>\n",
       "    </tr>\n",
       "    <tr>\n",
       "      <th>RHJvcC0xMjg=</th>\n",
       "      <td>2017-11-29 14:15:21</td>\n",
       "      <td>I try to make objects, spaces (both physical a...</td>\n",
       "      <td>art</td>\n",
       "      <td>True</td>\n",
       "      <td>2017-11-15 14:01:43</td>\n",
       "      <td>14</td>\n",
       "      <td>24</td>\n",
       "      <td>ACTIVE</td>\n",
       "      <td>22</td>\n",
       "      <td>101.0</td>\n",
       "      <td>USD</td>\n",
       "      <td>17</td>\n",
       "      <td>azikiwe-mohammed</td>\n",
       "    </tr>\n",
       "    <tr>\n",
       "      <th>RHJvcC0yMzA=</th>\n",
       "      <td>2018-05-02 05:14:01</td>\n",
       "      <td>Broccoli and Ice Cream is a fun new podcast by...</td>\n",
       "      <td>podcasts-and-radio</td>\n",
       "      <td>True</td>\n",
       "      <td>2018-04-02 05:14:01</td>\n",
       "      <td>30</td>\n",
       "      <td>17</td>\n",
       "      <td>ACTIVE</td>\n",
       "      <td>17</td>\n",
       "      <td>71.0</td>\n",
       "      <td>USD</td>\n",
       "      <td>13</td>\n",
       "      <td>broccoliandicecream</td>\n",
       "    </tr>\n",
       "    <tr>\n",
       "      <th>RHJvcC03Nw==</th>\n",
       "      <td>2017-12-12 14:15:28</td>\n",
       "      <td>Every day I draw with a pen, a marker, or musi...</td>\n",
       "      <td>art</td>\n",
       "      <td>False</td>\n",
       "      <td>2017-11-15 14:01:43</td>\n",
       "      <td>27</td>\n",
       "      <td>26</td>\n",
       "      <td>ACTIVE</td>\n",
       "      <td>23</td>\n",
       "      <td>0.0</td>\n",
       "      <td>NaN</td>\n",
       "      <td>25</td>\n",
       "      <td>shantell-martin</td>\n",
       "    </tr>\n",
       "    <tr>\n",
       "      <th>RHJvcC0xNjE=</th>\n",
       "      <td>2017-12-15 14:15:24</td>\n",
       "      <td>Richard Herring’s Podcasts - Help us to make e...</td>\n",
       "      <td>film-and-video</td>\n",
       "      <td>True</td>\n",
       "      <td>2017-11-15 14:01:44</td>\n",
       "      <td>30</td>\n",
       "      <td>1065</td>\n",
       "      <td>ACTIVE</td>\n",
       "      <td>1113</td>\n",
       "      <td>3453.0</td>\n",
       "      <td>GBP</td>\n",
       "      <td>14</td>\n",
       "      <td>richard-herring</td>\n",
       "    </tr>\n",
       "  </tbody>\n",
       "</table>\n",
       "</div>"
      ],
      "text/plain": [
       "                        activeAt  \\\n",
       "id                                 \n",
       "RHJvcC0yMjY= 2018-04-25 16:28:03   \n",
       "RHJvcC0xMjg= 2017-11-29 14:15:21   \n",
       "RHJvcC0yMzA= 2018-05-02 05:14:01   \n",
       "RHJvcC03Nw== 2017-12-12 14:15:28   \n",
       "RHJvcC0xNjE= 2017-12-15 14:15:24   \n",
       "\n",
       "                                                          blurb  \\\n",
       "id                                                                \n",
       "RHJvcC0yMjY=  Got a Girl Crush aims to disrupt the broken na...   \n",
       "RHJvcC0xMjg=  I try to make objects, spaces (both physical a...   \n",
       "RHJvcC0yMzA=  Broccoli and Ice Cream is a fun new podcast by...   \n",
       "RHJvcC03Nw==  Every day I draw with a pen, a marker, or musi...   \n",
       "RHJvcC0xNjE=  Richard Herring’s Podcasts - Help us to make e...   \n",
       "\n",
       "                    categorySlug  enableEarningsDisplay          foundingAt  \\\n",
       "id                                                                            \n",
       "RHJvcC0yMjY=          publishing                   True 2018-03-26 16:28:03   \n",
       "RHJvcC0xMjg=                 art                   True 2017-11-15 14:01:43   \n",
       "RHJvcC0yMzA=  podcasts-and-radio                   True 2018-04-02 05:14:01   \n",
       "RHJvcC03Nw==                 art                  False 2017-11-15 14:01:43   \n",
       "RHJvcC0xNjE=      film-and-video                   True 2017-11-15 14:01:44   \n",
       "\n",
       "              foundingDays  foundingMembersCount   phase  pledgesCount  \\\n",
       "id                                                                       \n",
       "RHJvcC0yMjY=            30                    27  ACTIVE            27   \n",
       "RHJvcC0xMjg=            14                    24  ACTIVE            22   \n",
       "RHJvcC0yMzA=            30                    17  ACTIVE            17   \n",
       "RHJvcC03Nw==            27                    26  ACTIVE            23   \n",
       "RHJvcC0xNjE=            30                  1065  ACTIVE          1113   \n",
       "\n",
       "              pledgesTotalAmount pledgesTotalCurrency  publishedPostsCount  \\\n",
       "id                                                                           \n",
       "RHJvcC0yMjY=               165.0                  USD                    9   \n",
       "RHJvcC0xMjg=               101.0                  USD                   17   \n",
       "RHJvcC0yMzA=                71.0                  USD                   13   \n",
       "RHJvcC03Nw==                 0.0                  NaN                   25   \n",
       "RHJvcC0xNjE=              3453.0                  GBP                   14   \n",
       "\n",
       "                             slug  \n",
       "id                                 \n",
       "RHJvcC0yMjY=           girl-crush  \n",
       "RHJvcC0xMjg=     azikiwe-mohammed  \n",
       "RHJvcC0yMzA=  broccoliandicecream  \n",
       "RHJvcC03Nw==      shantell-martin  \n",
       "RHJvcC0xNjE=      richard-herring  "
      ]
     },
     "execution_count": 10,
     "metadata": {},
     "output_type": "execute_result"
    }
   ],
   "source": [
    "df['activeAt'] = pd.to_datetime(df['activeAt'], unit='s')\n",
    "df['foundingAt'] = pd.to_datetime(df['foundingAt'], unit='s')\n",
    "df = df.set_index('id')\n",
    "df.head()"
   ]
  },
  {
   "cell_type": "markdown",
   "metadata": {},
   "source": [
    "#### Reorder columns to highlight most interesting"
   ]
  },
  {
   "cell_type": "code",
   "execution_count": 11,
   "metadata": {},
   "outputs": [],
   "source": [
    "df = df[['slug', 'categorySlug', 'foundingMembersCount', 'foundingDays', 'pledgesCount','pledgesTotalAmount',\n",
    "    'pledgesTotalCurrency', 'publishedPostsCount','activeAt', 'blurb', 'enableEarningsDisplay','foundingAt', 'phase'\n",
    "   ]]"
   ]
  },
  {
   "cell_type": "code",
   "execution_count": 12,
   "metadata": {},
   "outputs": [],
   "source": [
    "# df.to_pickle('drip_2018_05_17')"
   ]
  },
  {
   "cell_type": "markdown",
   "metadata": {},
   "source": [
    "#### Let's make sure we understand the data set. This is the creator page for 'girl-crush' "
   ]
  },
  {
   "cell_type": "code",
   "execution_count": 13,
   "metadata": {},
   "outputs": [
    {
     "data": {
      "text/html": [
       "<img src=\"https://photos-2.dropbox.com/t/2/AAAY6UcqmzNQbgPANdBmEUItjkxTdHp69VnbtzWocu4zMw/12/712284/png/32x32/1/_/1/2/Screenshot%202018-05-17%2016.50.33.png/EOCPWxi6j8DZBCACKAI/FVc2txauLBP2sEh0_gq1YGxAhXX3FBeBycAGDXnIpCU?preserve_transparency=1&size=32x32&size_mode=5\"/>"
      ],
      "text/plain": [
       "<IPython.core.display.Image object>"
      ]
     },
     "execution_count": 13,
     "metadata": {},
     "output_type": "execute_result"
    }
   ],
   "source": [
    "Image(url= \"https://photos-2.dropbox.com/t/2/AAAY6UcqmzNQbgPANdBmEUItjkxTdHp69VnbtzWocu4zMw/12/712284/png/32x32/1/_/1/2/Screenshot%202018-05-17%2016.50.33.png/EOCPWxi6j8DZBCACKAI/FVc2txauLBP2sEh0_gq1YGxAhXX3FBeBycAGDXnIpCU?preserve_transparency=1&size=32x32&size_mode=5\")"
   ]
  },
  {
   "cell_type": "code",
   "execution_count": 14,
   "metadata": {},
   "outputs": [
    {
     "data": {
      "text/html": [
       "<div>\n",
       "<style scoped>\n",
       "    .dataframe tbody tr th:only-of-type {\n",
       "        vertical-align: middle;\n",
       "    }\n",
       "\n",
       "    .dataframe tbody tr th {\n",
       "        vertical-align: top;\n",
       "    }\n",
       "\n",
       "    .dataframe thead th {\n",
       "        text-align: right;\n",
       "    }\n",
       "</style>\n",
       "<table border=\"1\" class=\"dataframe\">\n",
       "  <thead>\n",
       "    <tr style=\"text-align: right;\">\n",
       "      <th></th>\n",
       "      <th>RHJvcC0yMjY=</th>\n",
       "    </tr>\n",
       "  </thead>\n",
       "  <tbody>\n",
       "    <tr>\n",
       "      <th>slug</th>\n",
       "      <td>girl-crush</td>\n",
       "    </tr>\n",
       "    <tr>\n",
       "      <th>categorySlug</th>\n",
       "      <td>publishing</td>\n",
       "    </tr>\n",
       "    <tr>\n",
       "      <th>foundingMembersCount</th>\n",
       "      <td>27</td>\n",
       "    </tr>\n",
       "    <tr>\n",
       "      <th>foundingDays</th>\n",
       "      <td>30</td>\n",
       "    </tr>\n",
       "    <tr>\n",
       "      <th>pledgesCount</th>\n",
       "      <td>27</td>\n",
       "    </tr>\n",
       "    <tr>\n",
       "      <th>pledgesTotalAmount</th>\n",
       "      <td>165</td>\n",
       "    </tr>\n",
       "    <tr>\n",
       "      <th>pledgesTotalCurrency</th>\n",
       "      <td>USD</td>\n",
       "    </tr>\n",
       "    <tr>\n",
       "      <th>publishedPostsCount</th>\n",
       "      <td>9</td>\n",
       "    </tr>\n",
       "    <tr>\n",
       "      <th>activeAt</th>\n",
       "      <td>2018-04-25 16:28:03</td>\n",
       "    </tr>\n",
       "    <tr>\n",
       "      <th>blurb</th>\n",
       "      <td>Got a Girl Crush aims to disrupt the broken na...</td>\n",
       "    </tr>\n",
       "    <tr>\n",
       "      <th>enableEarningsDisplay</th>\n",
       "      <td>True</td>\n",
       "    </tr>\n",
       "    <tr>\n",
       "      <th>foundingAt</th>\n",
       "      <td>2018-03-26 16:28:03</td>\n",
       "    </tr>\n",
       "    <tr>\n",
       "      <th>phase</th>\n",
       "      <td>ACTIVE</td>\n",
       "    </tr>\n",
       "  </tbody>\n",
       "</table>\n",
       "</div>"
      ],
      "text/plain": [
       "                                                            RHJvcC0yMjY=\n",
       "slug                                                          girl-crush\n",
       "categorySlug                                                  publishing\n",
       "foundingMembersCount                                                  27\n",
       "foundingDays                                                          30\n",
       "pledgesCount                                                          27\n",
       "pledgesTotalAmount                                                   165\n",
       "pledgesTotalCurrency                                                 USD\n",
       "publishedPostsCount                                                    9\n",
       "activeAt                                             2018-04-25 16:28:03\n",
       "blurb                  Got a Girl Crush aims to disrupt the broken na...\n",
       "enableEarningsDisplay                                               True\n",
       "foundingAt                                           2018-03-26 16:28:03\n",
       "phase                                                             ACTIVE"
      ]
     },
     "execution_count": 14,
     "metadata": {},
     "output_type": "execute_result"
    }
   ],
   "source": [
    "df[df['slug']=='girl-crush'].iloc[0].to_frame()"
   ]
  },
  {
   "cell_type": "markdown",
   "metadata": {},
   "source": [
    "It seems that:\n",
    "- <b>foundingMembersCount</b> is the number of subscribers (27 in this case)\n",
    "- <b>pledgesTotalAmount</b> is the monthly income ($165 here)\n",
    "\n",
    "but <b>foundingDays</b> is unclear."
   ]
  },
  {
   "cell_type": "code",
   "execution_count": 15,
   "metadata": {},
   "outputs": [
    {
     "data": {
      "text/plain": [
       "30    49\n",
       "7     13\n",
       "21     7\n",
       "15     7\n",
       "14     5\n",
       "20     4\n",
       "28     1\n",
       "27     1\n",
       "25     1\n",
       "18     1\n",
       "17     1\n",
       "16     1\n",
       "9      1\n",
       "Name: foundingDays, dtype: int64"
      ]
     },
     "execution_count": 15,
     "metadata": {},
     "output_type": "execute_result"
    }
   ],
   "source": [
    "df['foundingDays'].value_counts()"
   ]
  },
  {
   "cell_type": "markdown",
   "metadata": {},
   "source": [
    "It looks like a frequency, maybe it's the frequency of pledges. let's pull up an example."
   ]
  },
  {
   "cell_type": "code",
   "execution_count": 16,
   "metadata": {},
   "outputs": [
    {
     "data": {
      "text/html": [
       "<div>\n",
       "<style scoped>\n",
       "    .dataframe tbody tr th:only-of-type {\n",
       "        vertical-align: middle;\n",
       "    }\n",
       "\n",
       "    .dataframe tbody tr th {\n",
       "        vertical-align: top;\n",
       "    }\n",
       "\n",
       "    .dataframe thead th {\n",
       "        text-align: right;\n",
       "    }\n",
       "</style>\n",
       "<table border=\"1\" class=\"dataframe\">\n",
       "  <thead>\n",
       "    <tr style=\"text-align: right;\">\n",
       "      <th></th>\n",
       "      <th>RHJvcC01Mg==</th>\n",
       "    </tr>\n",
       "  </thead>\n",
       "  <tbody>\n",
       "    <tr>\n",
       "      <th>slug</th>\n",
       "      <td>femfreq</td>\n",
       "    </tr>\n",
       "    <tr>\n",
       "      <th>categorySlug</th>\n",
       "      <td>podcasts-and-radio</td>\n",
       "    </tr>\n",
       "    <tr>\n",
       "      <th>foundingMembersCount</th>\n",
       "      <td>149</td>\n",
       "    </tr>\n",
       "    <tr>\n",
       "      <th>foundingDays</th>\n",
       "      <td>7</td>\n",
       "    </tr>\n",
       "    <tr>\n",
       "      <th>pledgesCount</th>\n",
       "      <td>243</td>\n",
       "    </tr>\n",
       "    <tr>\n",
       "      <th>pledgesTotalAmount</th>\n",
       "      <td>2310</td>\n",
       "    </tr>\n",
       "    <tr>\n",
       "      <th>pledgesTotalCurrency</th>\n",
       "      <td>USD</td>\n",
       "    </tr>\n",
       "    <tr>\n",
       "      <th>publishedPostsCount</th>\n",
       "      <td>77</td>\n",
       "    </tr>\n",
       "    <tr>\n",
       "      <th>activeAt</th>\n",
       "      <td>2017-11-22 14:15:22</td>\n",
       "    </tr>\n",
       "    <tr>\n",
       "      <th>blurb</th>\n",
       "      <td>A new podcast 🎤 discussing feminism &amp; pop cult...</td>\n",
       "    </tr>\n",
       "    <tr>\n",
       "      <th>enableEarningsDisplay</th>\n",
       "      <td>True</td>\n",
       "    </tr>\n",
       "    <tr>\n",
       "      <th>foundingAt</th>\n",
       "      <td>2017-11-15 14:01:42</td>\n",
       "    </tr>\n",
       "    <tr>\n",
       "      <th>phase</th>\n",
       "      <td>ACTIVE</td>\n",
       "    </tr>\n",
       "  </tbody>\n",
       "</table>\n",
       "</div>"
      ],
      "text/plain": [
       "                                                            RHJvcC01Mg==\n",
       "slug                                                             femfreq\n",
       "categorySlug                                          podcasts-and-radio\n",
       "foundingMembersCount                                                 149\n",
       "foundingDays                                                           7\n",
       "pledgesCount                                                         243\n",
       "pledgesTotalAmount                                                  2310\n",
       "pledgesTotalCurrency                                                 USD\n",
       "publishedPostsCount                                                   77\n",
       "activeAt                                             2017-11-22 14:15:22\n",
       "blurb                  A new podcast 🎤 discussing feminism & pop cult...\n",
       "enableEarningsDisplay                                               True\n",
       "foundingAt                                           2017-11-15 14:01:42\n",
       "phase                                                             ACTIVE"
      ]
     },
     "execution_count": 16,
     "metadata": {},
     "output_type": "execute_result"
    }
   ],
   "source": [
    "df[df['foundingDays'] == 7].iloc[0].to_frame()"
   ]
  },
  {
   "cell_type": "code",
   "execution_count": 17,
   "metadata": {},
   "outputs": [
    {
     "data": {
      "text/html": [
       "<img src=\"https://www.dropbox.com/s/xulrswio8w4x6pn/Screenshot%202018-05-17%2016.58.43.png?dl=1\"/>"
      ],
      "text/plain": [
       "<IPython.core.display.Image object>"
      ]
     },
     "execution_count": 17,
     "metadata": {},
     "output_type": "execute_result"
    }
   ],
   "source": [
    "Image(url= \"https://www.dropbox.com/s/xulrswio8w4x6pn/Screenshot%202018-05-17%2016.58.43.png?dl=1\")"
   ]
  },
  {
   "cell_type": "markdown",
   "metadata": {},
   "source": [
    "Even with a <b>foundingDays</b> value of 7, the income and subscriptions values are all monthly.\n",
    "Let's ignore <b>foundingDays</b> for now."
   ]
  },
  {
   "cell_type": "markdown",
   "metadata": {},
   "source": [
    "### What is the difference between foundingMembers and pledgesCount?"
   ]
  },
  {
   "cell_type": "markdown",
   "metadata": {},
   "source": [
    "The blog post mentioned in the intro describes the concept of founding members:\n",
    "> Every Drip begins with a founding membership period to help creators build momentum. The founding membership period is a way for creators to entice their fans, friends, and new audiences to jump in and build up their base of support. (This is not all-or-nothing like Kickstarter, but it does build on our experience that a strong call to action is essential.) Creators can offer their founding members special rewards or status for jumping in early. We know creators will be really creative with how they think of founding memberships, and we’re excited to see how it’s put to use."
   ]
  },
  {
   "cell_type": "code",
   "execution_count": null,
   "metadata": {},
   "outputs": [],
   "source": []
  },
  {
   "cell_type": "code",
   "execution_count": 18,
   "metadata": {},
   "outputs": [],
   "source": [
    "# Let's compute the difference between founding Members and Pledges, and bin the results in 3 categories\n",
    "\n",
    "df['pledgeDiff'] = pd.cut(df['pledgesCount'] - df['foundingMembersCount'],\n",
    "                   bins=[ -100,  -0.1, 0, 100 ],\n",
    "                   labels=('fewer', 'equal', 'more'))"
   ]
  },
  {
   "cell_type": "code",
   "execution_count": 19,
   "metadata": {
    "scrolled": false
   },
   "outputs": [
    {
     "data": {
      "text/plain": [
       "Text(0.5,1,'Number of pledges compared Founding Members')"
      ]
     },
     "execution_count": 19,
     "metadata": {},
     "output_type": "execute_result"
    },
    {
     "data": {
      "image/png": "[encoded data removed]",
      "text/plain": [
       "<matplotlib.figure.Figure at 0x1a144e5c88>"
      ]
     },
     "metadata": {},
     "output_type": "display_data"
    }
   ],
   "source": [
    "plt.figure(figsize=(7,5))\n",
    "sns.countplot(x='pledgeDiff', data=df)\n",
    "plt.title(\"Number of pledges compared Founding Members\")"
   ]
  },
  {
   "cell_type": "markdown",
   "metadata": {},
   "source": [
    "Most creators added more members since their founding period. <br>"
   ]
  },
  {
   "cell_type": "code",
   "execution_count": null,
   "metadata": {},
   "outputs": [],
   "source": []
  },
  {
   "cell_type": "markdown",
   "metadata": {},
   "source": [
    "## EDA"
   ]
  },
  {
   "cell_type": "markdown",
   "metadata": {},
   "source": [
    "### Gross numbers"
   ]
  },
  {
   "cell_type": "code",
   "execution_count": 20,
   "metadata": {},
   "outputs": [
    {
     "data": {
      "text/plain": [
       "foundingMembersCount     6126.0\n",
       "foundingDays             2103.0\n",
       "pledgesCount             7377.0\n",
       "pledgesTotalAmount      21936.0\n",
       "publishedPostsCount      1441.0\n",
       "dtype: float64"
      ]
     },
     "execution_count": 20,
     "metadata": {},
     "output_type": "execute_result"
    }
   ],
   "source": [
    "sums = df.select_dtypes('number').sum()\n",
    "sums"
   ]
  },
  {
   "cell_type": "markdown",
   "metadata": {},
   "source": [
    "#### Average Pledge"
   ]
  },
  {
   "cell_type": "code",
   "execution_count": 21,
   "metadata": {},
   "outputs": [
    {
     "data": {
      "text/plain": [
       "2.9735664904432695"
      ]
     },
     "execution_count": 21,
     "metadata": {},
     "output_type": "execute_result"
    }
   ],
   "source": [
    "sums['pledgesTotalAmount'] / sums['pledgesCount']"
   ]
  },
  {
   "cell_type": "markdown",
   "metadata": {},
   "source": [
    "#### Average Pledges & Monthly earnings, Posts per creator"
   ]
  },
  {
   "cell_type": "code",
   "execution_count": 22,
   "metadata": {},
   "outputs": [
    {
     "data": {
      "text/plain": [
       "pledgesTotalAmount     238.434783\n",
       "pledgesCount            80.184783\n",
       "publishedPostsCount     15.663043\n",
       "dtype: float64"
      ]
     },
     "execution_count": 22,
     "metadata": {},
     "output_type": "execute_result"
    }
   ],
   "source": [
    "sums[[ 'pledgesTotalAmount', 'pledgesCount', 'publishedPostsCount'] ] / len(df)"
   ]
  },
  {
   "cell_type": "markdown",
   "metadata": {},
   "source": [
    "### Who's earning the most?"
   ]
  },
  {
   "cell_type": "markdown",
   "metadata": {},
   "source": [
    "There are a few currencies represented but they're all of the same order of magnitude, so let's ignore exchange rates for now"
   ]
  },
  {
   "cell_type": "code",
   "execution_count": 23,
   "metadata": {},
   "outputs": [
    {
     "data": {
      "text/plain": [
       "USD    65\n",
       "EUR     4\n",
       "GBP     2\n",
       "Name: pledgesTotalCurrency, dtype: int64"
      ]
     },
     "execution_count": 23,
     "metadata": {},
     "output_type": "execute_result"
    }
   ],
   "source": [
    "df['pledgesTotalCurrency'].value_counts()"
   ]
  },
  {
   "cell_type": "markdown",
   "metadata": {},
   "source": [
    "#### Visualizing individual Creators"
   ]
  },
  {
   "cell_type": "markdown",
   "metadata": {},
   "source": [
    "7 earners are earning around $1000+ / month"
   ]
  },
  {
   "cell_type": "code",
   "execution_count": 24,
   "metadata": {},
   "outputs": [
    {
     "data": {
      "text/html": [
       "<div>\n",
       "<style scoped>\n",
       "    .dataframe tbody tr th:only-of-type {\n",
       "        vertical-align: middle;\n",
       "    }\n",
       "\n",
       "    .dataframe tbody tr th {\n",
       "        vertical-align: top;\n",
       "    }\n",
       "\n",
       "    .dataframe thead th {\n",
       "        text-align: right;\n",
       "    }\n",
       "</style>\n",
       "<table border=\"1\" class=\"dataframe\">\n",
       "  <thead>\n",
       "    <tr style=\"text-align: right;\">\n",
       "      <th></th>\n",
       "      <th>slug</th>\n",
       "      <th>categorySlug</th>\n",
       "      <th>foundingMembersCount</th>\n",
       "      <th>foundingDays</th>\n",
       "      <th>pledgesCount</th>\n",
       "      <th>pledgesTotalAmount</th>\n",
       "      <th>pledgesTotalCurrency</th>\n",
       "      <th>publishedPostsCount</th>\n",
       "      <th>activeAt</th>\n",
       "      <th>blurb</th>\n",
       "      <th>enableEarningsDisplay</th>\n",
       "      <th>foundingAt</th>\n",
       "      <th>phase</th>\n",
       "      <th>pledgeDiff</th>\n",
       "    </tr>\n",
       "    <tr>\n",
       "      <th>id</th>\n",
       "      <th></th>\n",
       "      <th></th>\n",
       "      <th></th>\n",
       "      <th></th>\n",
       "      <th></th>\n",
       "      <th></th>\n",
       "      <th></th>\n",
       "      <th></th>\n",
       "      <th></th>\n",
       "      <th></th>\n",
       "      <th></th>\n",
       "      <th></th>\n",
       "      <th></th>\n",
       "      <th></th>\n",
       "    </tr>\n",
       "  </thead>\n",
       "  <tbody>\n",
       "    <tr>\n",
       "      <th>RHJvcC0xNjE=</th>\n",
       "      <td>richard-herring</td>\n",
       "      <td>film-and-video</td>\n",
       "      <td>1065</td>\n",
       "      <td>30</td>\n",
       "      <td>1113</td>\n",
       "      <td>3453.0</td>\n",
       "      <td>GBP</td>\n",
       "      <td>14</td>\n",
       "      <td>2017-12-15 14:15:24</td>\n",
       "      <td>Richard Herring’s Podcasts - Help us to make e...</td>\n",
       "      <td>True</td>\n",
       "      <td>2017-11-15 14:01:44</td>\n",
       "      <td>ACTIVE</td>\n",
       "      <td>more</td>\n",
       "    </tr>\n",
       "    <tr>\n",
       "      <th>RHJvcC04NA==</th>\n",
       "      <td>thornwillow</td>\n",
       "      <td>publishing</td>\n",
       "      <td>101</td>\n",
       "      <td>15</td>\n",
       "      <td>106</td>\n",
       "      <td>3442.0</td>\n",
       "      <td>USD</td>\n",
       "      <td>12</td>\n",
       "      <td>2017-11-30 14:15:22</td>\n",
       "      <td>Support a small press, and receive a portfolio...</td>\n",
       "      <td>True</td>\n",
       "      <td>2017-11-15 14:01:43</td>\n",
       "      <td>ACTIVE</td>\n",
       "      <td>more</td>\n",
       "    </tr>\n",
       "    <tr>\n",
       "      <th>RHJvcC01Mg==</th>\n",
       "      <td>femfreq</td>\n",
       "      <td>podcasts-and-radio</td>\n",
       "      <td>149</td>\n",
       "      <td>7</td>\n",
       "      <td>243</td>\n",
       "      <td>2310.0</td>\n",
       "      <td>USD</td>\n",
       "      <td>77</td>\n",
       "      <td>2017-11-22 14:15:22</td>\n",
       "      <td>A new podcast 🎤 discussing feminism &amp; pop cult...</td>\n",
       "      <td>True</td>\n",
       "      <td>2017-11-15 14:01:42</td>\n",
       "      <td>ACTIVE</td>\n",
       "      <td>more</td>\n",
       "    </tr>\n",
       "    <tr>\n",
       "      <th>RHJvcC0yMTQ=</th>\n",
       "      <td>electriclit</td>\n",
       "      <td>publishing</td>\n",
       "      <td>251</td>\n",
       "      <td>30</td>\n",
       "      <td>414</td>\n",
       "      <td>2049.0</td>\n",
       "      <td>USD</td>\n",
       "      <td>6</td>\n",
       "      <td>2018-04-06 02:15:22</td>\n",
       "      <td>Electric Lit is dedicated to making literature...</td>\n",
       "      <td>True</td>\n",
       "      <td>2018-03-07 03:07:29</td>\n",
       "      <td>ACTIVE</td>\n",
       "      <td>NaN</td>\n",
       "    </tr>\n",
       "    <tr>\n",
       "      <th>RHJvcC0xOTc=</th>\n",
       "      <td>bullypulpitgames</td>\n",
       "      <td>games</td>\n",
       "      <td>193</td>\n",
       "      <td>30</td>\n",
       "      <td>208</td>\n",
       "      <td>1339.0</td>\n",
       "      <td>USD</td>\n",
       "      <td>15</td>\n",
       "      <td>2018-03-29 13:15:23</td>\n",
       "      <td>The award-winning publishers of Fiasco, The Wa...</td>\n",
       "      <td>True</td>\n",
       "      <td>2018-02-27 14:02:16</td>\n",
       "      <td>ACTIVE</td>\n",
       "      <td>more</td>\n",
       "    </tr>\n",
       "    <tr>\n",
       "      <th>RHJvcC0xOTQ=</th>\n",
       "      <td>maryrobinette</td>\n",
       "      <td>publishing</td>\n",
       "      <td>107</td>\n",
       "      <td>30</td>\n",
       "      <td>109</td>\n",
       "      <td>1265.0</td>\n",
       "      <td>USD</td>\n",
       "      <td>17</td>\n",
       "      <td>2018-03-31 22:15:20</td>\n",
       "      <td>I'm a professional puppeteer, an audiobook nar...</td>\n",
       "      <td>True</td>\n",
       "      <td>2018-03-01 23:14:04</td>\n",
       "      <td>ACTIVE</td>\n",
       "      <td>more</td>\n",
       "    </tr>\n",
       "    <tr>\n",
       "      <th>RHJvcC02Mg==</th>\n",
       "      <td>ironspike</td>\n",
       "      <td>comics</td>\n",
       "      <td>196</td>\n",
       "      <td>15</td>\n",
       "      <td>199</td>\n",
       "      <td>995.0</td>\n",
       "      <td>USD</td>\n",
       "      <td>22</td>\n",
       "      <td>2017-11-30 14:15:22</td>\n",
       "      <td>Welcome to the Iron Circus Sideshow! Art, comi...</td>\n",
       "      <td>True</td>\n",
       "      <td>2017-11-15 14:01:43</td>\n",
       "      <td>ACTIVE</td>\n",
       "      <td>more</td>\n",
       "    </tr>\n",
       "  </tbody>\n",
       "</table>\n",
       "</div>"
      ],
      "text/plain": [
       "                          slug        categorySlug  foundingMembersCount  \\\n",
       "id                                                                         \n",
       "RHJvcC0xNjE=   richard-herring      film-and-video                  1065   \n",
       "RHJvcC04NA==       thornwillow          publishing                   101   \n",
       "RHJvcC01Mg==           femfreq  podcasts-and-radio                   149   \n",
       "RHJvcC0yMTQ=       electriclit          publishing                   251   \n",
       "RHJvcC0xOTc=  bullypulpitgames               games                   193   \n",
       "RHJvcC0xOTQ=     maryrobinette          publishing                   107   \n",
       "RHJvcC02Mg==         ironspike              comics                   196   \n",
       "\n",
       "              foundingDays  pledgesCount  pledgesTotalAmount  \\\n",
       "id                                                             \n",
       "RHJvcC0xNjE=            30          1113              3453.0   \n",
       "RHJvcC04NA==            15           106              3442.0   \n",
       "RHJvcC01Mg==             7           243              2310.0   \n",
       "RHJvcC0yMTQ=            30           414              2049.0   \n",
       "RHJvcC0xOTc=            30           208              1339.0   \n",
       "RHJvcC0xOTQ=            30           109              1265.0   \n",
       "RHJvcC02Mg==            15           199               995.0   \n",
       "\n",
       "             pledgesTotalCurrency  publishedPostsCount            activeAt  \\\n",
       "id                                                                           \n",
       "RHJvcC0xNjE=                  GBP                   14 2017-12-15 14:15:24   \n",
       "RHJvcC04NA==                  USD                   12 2017-11-30 14:15:22   \n",
       "RHJvcC01Mg==                  USD                   77 2017-11-22 14:15:22   \n",
       "RHJvcC0yMTQ=                  USD                    6 2018-04-06 02:15:22   \n",
       "RHJvcC0xOTc=                  USD                   15 2018-03-29 13:15:23   \n",
       "RHJvcC0xOTQ=                  USD                   17 2018-03-31 22:15:20   \n",
       "RHJvcC02Mg==                  USD                   22 2017-11-30 14:15:22   \n",
       "\n",
       "                                                          blurb  \\\n",
       "id                                                                \n",
       "RHJvcC0xNjE=  Richard Herring’s Podcasts - Help us to make e...   \n",
       "RHJvcC04NA==  Support a small press, and receive a portfolio...   \n",
       "RHJvcC01Mg==  A new podcast 🎤 discussing feminism & pop cult...   \n",
       "RHJvcC0yMTQ=  Electric Lit is dedicated to making literature...   \n",
       "RHJvcC0xOTc=  The award-winning publishers of Fiasco, The Wa...   \n",
       "RHJvcC0xOTQ=  I'm a professional puppeteer, an audiobook nar...   \n",
       "RHJvcC02Mg==  Welcome to the Iron Circus Sideshow! Art, comi...   \n",
       "\n",
       "              enableEarningsDisplay          foundingAt   phase pledgeDiff  \n",
       "id                                                                          \n",
       "RHJvcC0xNjE=                   True 2017-11-15 14:01:44  ACTIVE       more  \n",
       "RHJvcC04NA==                   True 2017-11-15 14:01:43  ACTIVE       more  \n",
       "RHJvcC01Mg==                   True 2017-11-15 14:01:42  ACTIVE       more  \n",
       "RHJvcC0yMTQ=                   True 2018-03-07 03:07:29  ACTIVE        NaN  \n",
       "RHJvcC0xOTc=                   True 2018-02-27 14:02:16  ACTIVE       more  \n",
       "RHJvcC0xOTQ=                   True 2018-03-01 23:14:04  ACTIVE       more  \n",
       "RHJvcC02Mg==                   True 2017-11-15 14:01:43  ACTIVE       more  "
      ]
     },
     "execution_count": 24,
     "metadata": {},
     "output_type": "execute_result"
    }
   ],
   "source": [
    "df.sort_values('pledgesTotalAmount', ascending=False).head(7)"
   ]
  },
  {
   "cell_type": "markdown",
   "metadata": {},
   "source": [
    "#### Amount per Pledge by creator"
   ]
  },
  {
   "cell_type": "code",
   "execution_count": 25,
   "metadata": {},
   "outputs": [],
   "source": [
    "df['AmountPerPledge'] = df['pledgesTotalAmount'] / df['pledgesCount']"
   ]
  },
  {
   "cell_type": "code",
   "execution_count": 44,
   "metadata": {},
   "outputs": [
    {
     "data": {
      "text/plain": [
       "<matplotlib.axes._subplots.AxesSubplot at 0x1a1e2a73c8>"
      ]
     },
     "execution_count": 44,
     "metadata": {},
     "output_type": "execute_result"
    },
    {
     "data": {
      "image/png": "[encoded data removed]",
      "text/plain": [
       "<matplotlib.figure.Figure at 0x1a1dbe0860>"
      ]
     },
     "metadata": {},
     "output_type": "display_data"
    }
   ],
   "source": [
    "sns.swarmplot(df['AmountPerPledge'], orient='h')"
   ]
  },
  {
   "cell_type": "markdown",
   "metadata": {},
   "source": [
    "#### When did these creators join?"
   ]
  },
  {
   "cell_type": "code",
   "execution_count": 27,
   "metadata": {},
   "outputs": [
    {
     "data": {
      "text/html": [
       "<div>\n",
       "<style scoped>\n",
       "    .dataframe tbody tr th:only-of-type {\n",
       "        vertical-align: middle;\n",
       "    }\n",
       "\n",
       "    .dataframe tbody tr th {\n",
       "        vertical-align: top;\n",
       "    }\n",
       "\n",
       "    .dataframe thead th {\n",
       "        text-align: right;\n",
       "    }\n",
       "</style>\n",
       "<table border=\"1\" class=\"dataframe\">\n",
       "  <thead>\n",
       "    <tr style=\"text-align: right;\">\n",
       "      <th></th>\n",
       "      <th>slug</th>\n",
       "    </tr>\n",
       "    <tr>\n",
       "      <th>foundingAt</th>\n",
       "      <th></th>\n",
       "    </tr>\n",
       "  </thead>\n",
       "  <tbody>\n",
       "    <tr>\n",
       "      <th>2017-11-15 14:01:42</th>\n",
       "      <td>well-read-black-girl</td>\n",
       "    </tr>\n",
       "    <tr>\n",
       "      <th>2017-11-15 14:01:42</th>\n",
       "      <td>willits</td>\n",
       "    </tr>\n",
       "    <tr>\n",
       "      <th>2017-11-15 14:01:42</th>\n",
       "      <td>femfreq</td>\n",
       "    </tr>\n",
       "    <tr>\n",
       "      <th>2017-11-15 14:01:42</th>\n",
       "      <td>debbie-millman</td>\n",
       "    </tr>\n",
       "    <tr>\n",
       "      <th>2017-11-15 14:01:43</th>\n",
       "      <td>peter</td>\n",
       "    </tr>\n",
       "  </tbody>\n",
       "</table>\n",
       "</div>"
      ],
      "text/plain": [
       "                                     slug\n",
       "foundingAt                               \n",
       "2017-11-15 14:01:42  well-read-black-girl\n",
       "2017-11-15 14:01:42               willits\n",
       "2017-11-15 14:01:42               femfreq\n",
       "2017-11-15 14:01:42        debbie-millman\n",
       "2017-11-15 14:01:43                 peter"
      ]
     },
     "execution_count": 27,
     "metadata": {},
     "output_type": "execute_result"
    }
   ],
   "source": [
    "timeseries = df[['foundingAt','slug']].set_index('foundingAt').sort_index()\n",
    "timeseries.head()"
   ]
  },
  {
   "cell_type": "code",
   "execution_count": 45,
   "metadata": {},
   "outputs": [
    {
     "data": {
      "text/plain": [
       "<matplotlib.axes._subplots.AxesSubplot at 0x1a1e215240>"
      ]
     },
     "execution_count": 45,
     "metadata": {},
     "output_type": "execute_result"
    },
    {
     "data": {
      "image/png": "[encoded data removed]",
      "text/plain": [
       "<matplotlib.figure.Figure at 0x1a1e2ac198>"
      ]
     },
     "metadata": {},
     "output_type": "display_data"
    }
   ],
   "source": [
    "timeseries['slug'].resample('1D').count().plot()"
   ]
  },
  {
   "cell_type": "markdown",
   "metadata": {},
   "source": [
    "60 of the 92 creators joined on November 15, this must have been the d.rip re-launch date since the Kickstarter acquisition. Since then they added creators slowly, on an invite-only basis."
   ]
  },
  {
   "cell_type": "markdown",
   "metadata": {},
   "source": [
    "### Diving into Categories"
   ]
  },
  {
   "cell_type": "code",
   "execution_count": 46,
   "metadata": {},
   "outputs": [
    {
     "data": {
      "text/plain": [
       "Text(0.5,1,'Each dot is a creator with their category and earnings.')"
      ]
     },
     "execution_count": 46,
     "metadata": {},
     "output_type": "execute_result"
    },
    {
     "data": {
      "image/png": "[encoded data removed]",
      "text/plain": [
       "<matplotlib.figure.Figure at 0x1a1dd070b8>"
      ]
     },
     "metadata": {},
     "output_type": "display_data"
    }
   ],
   "source": [
    "sns.swarmplot(x='categorySlug', y='pledgesTotalAmount', data=df, size=8)\n",
    "plt.xticks(rotation=20)\n",
    "plt.title('Each dot is a creator with their category and earnings.')"
   ]
  },
  {
   "cell_type": "markdown",
   "metadata": {},
   "source": [
    "#### Which categories are most represented by Creators?"
   ]
  },
  {
   "cell_type": "code",
   "execution_count": 47,
   "metadata": {},
   "outputs": [
    {
     "data": {
      "text/plain": [
       "Text(0.5,1,'# Creators by Category')"
      ]
     },
     "execution_count": 47,
     "metadata": {},
     "output_type": "execute_result"
    },
    {
     "data": {
      "image/png": "[encoded data removed]",
      "text/plain": [
       "<matplotlib.figure.Figure at 0x1a1e21d1d0>"
      ]
     },
     "metadata": {},
     "output_type": "display_data"
    }
   ],
   "source": [
    "sns.countplot(x='categorySlug', data=df)\n",
    "plt.xticks(rotation=20)\n",
    "plt.title('# Creators by Category')"
   ]
  },
  {
   "cell_type": "markdown",
   "metadata": {},
   "source": [
    "#### In which categories are creators earning the most?"
   ]
  },
  {
   "cell_type": "code",
   "execution_count": 48,
   "metadata": {},
   "outputs": [
    {
     "data": {
      "text/plain": [
       "Text(0.5,1,'Median Monthly Earnings by Creator in each Category')"
      ]
     },
     "execution_count": 48,
     "metadata": {},
     "output_type": "execute_result"
    },
    {
     "data": {
      "image/png": "[encoded data removed]",
      "text/plain": [
       "<matplotlib.figure.Figure at 0x1a1eacbf60>"
      ]
     },
     "metadata": {},
     "output_type": "display_data"
    }
   ],
   "source": [
    "sns.barplot(x=\"categorySlug\", y=\"pledgesTotalAmount\", estimator=np.median, ci=None, data=df)\n",
    "plt.xticks(rotation=20)\n",
    "plt.title('Median Monthly Earnings by Creator in each Category')"
   ]
  },
  {
   "cell_type": "markdown",
   "metadata": {},
   "source": [
    "#### Is the average Pledge Amount different by Category?"
   ]
  },
  {
   "cell_type": "code",
   "execution_count": 49,
   "metadata": {},
   "outputs": [
    {
     "data": {
      "text/plain": [
       "Text(0.5,1,'Average Pledge Amount in each Category')"
      ]
     },
     "execution_count": 49,
     "metadata": {},
     "output_type": "execute_result"
    },
    {
     "data": {
      "image/png": "[encoded data removed]",
      "text/plain": [
       "<matplotlib.figure.Figure at 0x1a1e1dd080>"
      ]
     },
     "metadata": {},
     "output_type": "display_data"
    }
   ],
   "source": [
    "sns.barplot(x=\"categorySlug\", y=\"AmountPerPledge\", estimator=np.median, ci=None, data=df)\n",
    "plt.xticks(rotation=20)\n",
    "plt.title('Average Pledge Amount in each Category')"
   ]
  },
  {
   "cell_type": "markdown",
   "metadata": {},
   "source": [
    "## How fast is d.rip growing?"
   ]
  },
  {
   "cell_type": "markdown",
   "metadata": {},
   "source": [
    "The data above is from May 17th, but we also gathered a snapshot of data on May 15th.<br>\n",
    "It's a short time period but still interesting how much growth there was over this 48 hours period."
   ]
  },
  {
   "cell_type": "code",
   "execution_count": 33,
   "metadata": {},
   "outputs": [],
   "source": [
    "df15 = pd.read_pickle('drip_2018_05_15')"
   ]
  },
  {
   "cell_type": "code",
   "execution_count": 34,
   "metadata": {},
   "outputs": [],
   "source": [
    "# df = pd.read_pickle('drip_2018_05_17')"
   ]
  },
  {
   "cell_type": "markdown",
   "metadata": {},
   "source": [
    "We merge May 15th data with May 17th data."
   ]
  },
  {
   "cell_type": "code",
   "execution_count": 35,
   "metadata": {},
   "outputs": [],
   "source": [
    "# Select only relevant columns\n",
    "df15 = df15[ ['foundingMembersCount', 'pledgesCount', 'pledgesTotalAmount', 'publishedPostsCount' ] ]"
   ]
  },
  {
   "cell_type": "markdown",
   "metadata": {},
   "source": [
    "#### How many creators were added?"
   ]
  },
  {
   "cell_type": "code",
   "execution_count": 36,
   "metadata": {},
   "outputs": [
    {
     "data": {
      "text/plain": [
       "0"
      ]
     },
     "execution_count": 36,
     "metadata": {},
     "output_type": "execute_result"
    }
   ],
   "source": [
    "len(set(df.index) - set(df15.index))"
   ]
  },
  {
   "cell_type": "markdown",
   "metadata": {},
   "source": [
    "#### How many creators are gone?"
   ]
  },
  {
   "cell_type": "code",
   "execution_count": 37,
   "metadata": {},
   "outputs": [
    {
     "data": {
      "text/plain": [
       "0"
      ]
     },
     "execution_count": 37,
     "metadata": {},
     "output_type": "execute_result"
    }
   ],
   "source": [
    "len(set(df15.index) - set(df.index))"
   ]
  },
  {
   "cell_type": "code",
   "execution_count": 38,
   "metadata": {},
   "outputs": [],
   "source": [
    "# Join the DataFrames\n",
    "df = df.join(df15, rsuffix='_15')"
   ]
  },
  {
   "cell_type": "code",
   "execution_count": 39,
   "metadata": {},
   "outputs": [],
   "source": [
    "# Compute differences\n",
    "df['addedFoundingMembers'] = df['foundingMembersCount'] - df['foundingMembersCount_15']\n",
    "df['addedPledgesCount'] = df['pledgesCount'] - df['pledgesCount_15']\n",
    "df['addedPledgesTotalAmount'] = df['pledgesTotalAmount'] - df['pledgesTotalAmount_15']\n",
    "df['addedPublishedPostsCount'] = df['publishedPostsCount'] - df['publishedPostsCount_15']"
   ]
  },
  {
   "cell_type": "markdown",
   "metadata": {},
   "source": [
    "### Aggregates"
   ]
  },
  {
   "cell_type": "code",
   "execution_count": 40,
   "metadata": {
    "scrolled": true
   },
   "outputs": [
    {
     "data": {
      "text/plain": [
       "addedFoundingMembers        -6.0\n",
       "addedPledgesCount           33.0\n",
       "addedPledgesTotalAmount     42.0\n",
       "addedPublishedPostsCount    13.0\n",
       "dtype: float64"
      ]
     },
     "execution_count": 40,
     "metadata": {},
     "output_type": "execute_result"
    }
   ],
   "source": [
    "df[['addedFoundingMembers', 'addedPledgesCount', 'addedPledgesTotalAmount', 'addedPublishedPostsCount']].sum()"
   ]
  },
  {
   "cell_type": "markdown",
   "metadata": {},
   "source": [
    "In the last 48 hours Drip:\n",
    "- lost 5 founding members (?). I'm not sure how, let's move on.\n",
    "- added 34 Net pledges,\n",
    "- added $42/month in Net pledge amounts\n",
    "- published 13 Net posts by creators\n"
   ]
  },
  {
   "cell_type": "markdown",
   "metadata": {},
   "source": [
    "Thanks for reading."
   ]
  },
  {
   "cell_type": "code",
   "execution_count": null,
   "metadata": {},
   "outputs": [],
   "source": []
  }
 ],
 "metadata": {
  "kernelspec": {
   "display_name": "Python 3",
   "language": "python",
   "name": "python3"
  },
  "language_info": {
   "codemirror_mode": {
    "name": "ipython",
    "version": 3
   },
   "file_extension": ".py",
   "mimetype": "text/x-python",
   "name": "python",
   "nbconvert_exporter": "python",
   "pygments_lexer": "ipython3",
   "version": "3.6.4"
  }
 },
 "nbformat": 4,
 "nbformat_minor": 2
}
